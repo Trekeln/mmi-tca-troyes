{
 "cells": [
  {
   "cell_type": "markdown",
   "id": "001c48a9-406b-40a7-a3f3-7e4286ed428d",
   "metadata": {},
   "source": [
    "# Projet Morpion"
   ]
  },
  {
   "cell_type": "code",
   "execution_count": 10,
   "id": "8c84d601-8072-4924-904f-2d234f9574e0",
   "metadata": {},
   "outputs": [],
   "source": [
    "# Importation de notre classe Morpion depuis le fichier morpion.py\n",
    "# Cette classe contient l'implémentation du jeu de base\n",
    "from morpion import Morpion\n",
    "\n",
    "# Matplotlib : bibliothèque de visualisation pour créer des graphiques\n",
    "# Nous l'utiliserons pour visualiser l'apprentissage de l'IA\n",
    "import matplotlib.pyplot as plt\n",
    "\n",
    "# NumPy : bibliothèque pour le calcul scientifique\n",
    "# Utilisée pour les opérations mathématiques et la manipulation de tableaux\n",
    "import numpy as np\n",
    "\n",
    "# Module random pour générer des nombres aléatoires\n",
    "# Utilisé pour l'exploration dans l'algorithme de Q-Learning\n",
    "import random\n",
    "\n",
    "# IPython.display : module pour contrôler l'affichage dans Jupyter\n",
    "# clear_output permet d'effacer la sortie précédente pour une meilleure visualisation\n",
    "from IPython.display import clear_output"
   ]
  },
  {
   "cell_type": "code",
   "execution_count": 8,
   "id": "c9fcc374-4997-403f-98f4-e094cea8836a",
   "metadata": {},
   "outputs": [
    {
     "data": {
      "text/html": [
       "<pre style=\"white-space:pre;overflow-x:auto;line-height:normal;font-family:Menlo,'DejaVu Sans Mono',consolas,'Courier New',monospace\">     |     |     \n",
       "  <span style=\"color: #800000; text-decoration-color: #800000\">O</span>  |  <span style=\"color: #800000; text-decoration-color: #800000\">X</span>  |  <span style=\"color: #008080; text-decoration-color: #008080; font-weight: bold\">3</span>\n",
       "_____|_____|_____\n",
       "     |     |     \n",
       "  <span style=\"color: #008080; text-decoration-color: #008080; font-weight: bold\">4</span>  |  <span style=\"color: #008080; text-decoration-color: #008080; font-weight: bold\">5</span>  |  <span style=\"color: #008080; text-decoration-color: #008080; font-weight: bold\">6</span>\n",
       "_____|_____|_____\n",
       "     |     |     \n",
       "  <span style=\"color: #008080; text-decoration-color: #008080; font-weight: bold\">7</span>  |  <span style=\"color: #008080; text-decoration-color: #008080; font-weight: bold\">8</span>  |  <span style=\"color: #008080; text-decoration-color: #008080; font-weight: bold\">9</span>\n",
       "     |     |     \n",
       "</pre>\n"
      ],
      "text/plain": [
       "     |     |     \n",
       "  \u001b[31mO\u001b[0m  |  \u001b[31mX\u001b[0m  |  \u001b[1;36m3\u001b[0m\n",
       "_____|_____|_____\n",
       "     |     |     \n",
       "  \u001b[1;36m4\u001b[0m  |  \u001b[1;36m5\u001b[0m  |  \u001b[1;36m6\u001b[0m\n",
       "_____|_____|_____\n",
       "     |     |     \n",
       "  \u001b[1;36m7\u001b[0m  |  \u001b[1;36m8\u001b[0m  |  \u001b[1;36m9\u001b[0m\n",
       "     |     |     \n"
      ]
     },
     "metadata": {},
     "output_type": "display_data"
    }
   ],
   "source": [
    "# Création d'une nouvelle instance du jeu\n",
    "game = Morpion()\n",
    "\n",
    "# L'IA (joueur 1) joue en position 1 (case en haut à gauche)\n",
    "game.jouer_coup(1, 1)  # Placera un 'O'\n",
    "\n",
    "# Le joueur humain (joueur 2) joue en position 2 (case en haut au milieu)\n",
    "game.jouer_coup(2, 2)  # Placera un 'X'\n",
    "\n",
    "# Affichage de l'état actuel du plateau\n",
    "game.afficher_plateau()"
   ]
  }
 ],
 "metadata": {
  "kernelspec": {
   "display_name": "Python 3 (ipykernel)",
   "language": "python",
   "name": "python3"
  },
  "language_info": {
   "codemirror_mode": {
    "name": "ipython",
    "version": 3
   },
   "file_extension": ".py",
   "mimetype": "text/x-python",
   "name": "python",
   "nbconvert_exporter": "python",
   "pygments_lexer": "ipython3",
   "version": "3.12.8"
  }
 },
 "nbformat": 4,
 "nbformat_minor": 5
}
